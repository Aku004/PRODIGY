{
 "cells": [
  {
   "cell_type": "code",
   "execution_count": 44,
   "metadata": {},
   "outputs": [],
   "source": [
    "import numpy as np\n",
    "import pandas as pd\n",
    "import matplotlib.pyplot as plt\n",
    "import seaborn as sns"
   ]
  },
  {
   "cell_type": "code",
   "execution_count": 45,
   "metadata": {},
   "outputs": [],
   "source": [
    "df = pd.read_excel('C:/Users/ASUS/Desktop/Prodigy Files/TASK2/Titanic.xlsx')"
   ]
  },
  {
   "cell_type": "code",
   "execution_count": 46,
   "metadata": {},
   "outputs": [
    {
     "data": {
      "text/plain": [
       "<bound method NDFrame.head of       PassengerId  Pclass                                               Name   \n",
       "0             1.0     3.0                            Braund, Mr. Owen Harris  \\\n",
       "1             2.0     1.0  Cumings, Mrs. John Bradley (Florence Briggs Th...   \n",
       "2             3.0     3.0                             Heikkinen, Miss. Laina   \n",
       "3             4.0     1.0       Futrelle, Mrs. Jacques Heath (Lily May Peel)   \n",
       "4             5.0     3.0                           Allen, Mr. William Henry   \n",
       "...           ...     ...                                                ...   \n",
       "1305       1306.0     1.0                       Oliva y Ocana, Dona. Fermina   \n",
       "1306       1307.0     3.0                       Saether, Mr. Simon Sivertsen   \n",
       "1307       1308.0     3.0                                Ware, Mr. Frederick   \n",
       "1308       1309.0     3.0                           Peter, Master. Michael J   \n",
       "1309          NaN     NaN                                                NaN   \n",
       "\n",
       "         Sex        Age Age Group  SibSp  Parch              Ticket      Fare   \n",
       "0       MALE  22.000000  Teenager    1.0    0.0           A/5 21171    7.2500  \\\n",
       "1     FEMALE  38.000000     Adult    1.0    0.0            PC 17599   71.2833   \n",
       "2     FEMALE  26.000000  Teenager    0.0    0.0    STON/O2. 3101282    7.9250   \n",
       "3     FEMALE  35.000000     Adult    1.0    0.0              113803   53.1000   \n",
       "4       MALE  35.000000     Adult    0.0    0.0              373450    8.0500   \n",
       "...      ...        ...       ...    ...    ...                 ...       ...   \n",
       "1305  FEMALE  39.000000     Adult    0.0    0.0            PC 17758  108.9000   \n",
       "1306    MALE  38.500000     Adult    0.0    0.0  SOTON/O.Q. 3101262    7.2500   \n",
       "1307    MALE        NaN  Teenager    0.0    0.0              359309    8.0500   \n",
       "1308    MALE        NaN  Teenager    1.0    1.0                2668   22.3583   \n",
       "1309     NaN  29.881138       NaN    NaN    NaN                 NaN       NaN   \n",
       "\n",
       "     Cabin Embarked  Survived  \n",
       "0      NaN        S       0.0  \n",
       "1      C85        C       1.0  \n",
       "2      NaN        S       1.0  \n",
       "3     C123        S       1.0  \n",
       "4      NaN        S       0.0  \n",
       "...    ...      ...       ...  \n",
       "1305  C105        C       1.0  \n",
       "1306   NaN        S       0.0  \n",
       "1307   NaN        S       0.0  \n",
       "1308   NaN        C       0.0  \n",
       "1309   NaN      NaN       NaN  \n",
       "\n",
       "[1310 rows x 13 columns]>"
      ]
     },
     "execution_count": 46,
     "metadata": {},
     "output_type": "execute_result"
    }
   ],
   "source": [
    "df.head"
   ]
  },
  {
   "cell_type": "code",
   "execution_count": 47,
   "metadata": {},
   "outputs": [
    {
     "data": {
      "text/plain": [
       "(1310, 13)"
      ]
     },
     "execution_count": 47,
     "metadata": {},
     "output_type": "execute_result"
    }
   ],
   "source": [
    "df.shape"
   ]
  },
  {
   "cell_type": "code",
   "execution_count": 48,
   "metadata": {},
   "outputs": [
    {
     "data": {
      "text/plain": [
       "<bound method NDFrame.describe of       PassengerId  Pclass                                               Name   \n",
       "0             1.0     3.0                            Braund, Mr. Owen Harris  \\\n",
       "1             2.0     1.0  Cumings, Mrs. John Bradley (Florence Briggs Th...   \n",
       "2             3.0     3.0                             Heikkinen, Miss. Laina   \n",
       "3             4.0     1.0       Futrelle, Mrs. Jacques Heath (Lily May Peel)   \n",
       "4             5.0     3.0                           Allen, Mr. William Henry   \n",
       "...           ...     ...                                                ...   \n",
       "1305       1306.0     1.0                       Oliva y Ocana, Dona. Fermina   \n",
       "1306       1307.0     3.0                       Saether, Mr. Simon Sivertsen   \n",
       "1307       1308.0     3.0                                Ware, Mr. Frederick   \n",
       "1308       1309.0     3.0                           Peter, Master. Michael J   \n",
       "1309          NaN     NaN                                                NaN   \n",
       "\n",
       "         Sex        Age Age Group  SibSp  Parch              Ticket      Fare   \n",
       "0       MALE  22.000000  Teenager    1.0    0.0           A/5 21171    7.2500  \\\n",
       "1     FEMALE  38.000000     Adult    1.0    0.0            PC 17599   71.2833   \n",
       "2     FEMALE  26.000000  Teenager    0.0    0.0    STON/O2. 3101282    7.9250   \n",
       "3     FEMALE  35.000000     Adult    1.0    0.0              113803   53.1000   \n",
       "4       MALE  35.000000     Adult    0.0    0.0              373450    8.0500   \n",
       "...      ...        ...       ...    ...    ...                 ...       ...   \n",
       "1305  FEMALE  39.000000     Adult    0.0    0.0            PC 17758  108.9000   \n",
       "1306    MALE  38.500000     Adult    0.0    0.0  SOTON/O.Q. 3101262    7.2500   \n",
       "1307    MALE        NaN  Teenager    0.0    0.0              359309    8.0500   \n",
       "1308    MALE        NaN  Teenager    1.0    1.0                2668   22.3583   \n",
       "1309     NaN  29.881138       NaN    NaN    NaN                 NaN       NaN   \n",
       "\n",
       "     Cabin Embarked  Survived  \n",
       "0      NaN        S       0.0  \n",
       "1      C85        C       1.0  \n",
       "2      NaN        S       1.0  \n",
       "3     C123        S       1.0  \n",
       "4      NaN        S       0.0  \n",
       "...    ...      ...       ...  \n",
       "1305  C105        C       1.0  \n",
       "1306   NaN        S       0.0  \n",
       "1307   NaN        S       0.0  \n",
       "1308   NaN        C       0.0  \n",
       "1309   NaN      NaN       NaN  \n",
       "\n",
       "[1310 rows x 13 columns]>"
      ]
     },
     "execution_count": 48,
     "metadata": {},
     "output_type": "execute_result"
    }
   ],
   "source": [
    "df.describe"
   ]
  },
  {
   "cell_type": "code",
   "execution_count": 49,
   "metadata": {},
   "outputs": [
    {
     "data": {
      "text/html": [
       "<div>\n",
       "<style scoped>\n",
       "    .dataframe tbody tr th:only-of-type {\n",
       "        vertical-align: middle;\n",
       "    }\n",
       "\n",
       "    .dataframe tbody tr th {\n",
       "        vertical-align: top;\n",
       "    }\n",
       "\n",
       "    .dataframe thead th {\n",
       "        text-align: right;\n",
       "    }\n",
       "</style>\n",
       "<table border=\"1\" class=\"dataframe\">\n",
       "  <thead>\n",
       "    <tr style=\"text-align: right;\">\n",
       "      <th></th>\n",
       "      <th>PassengerId</th>\n",
       "      <th>Pclass</th>\n",
       "      <th>Name</th>\n",
       "      <th>Sex</th>\n",
       "      <th>Age</th>\n",
       "      <th>Age Group</th>\n",
       "      <th>SibSp</th>\n",
       "      <th>Parch</th>\n",
       "      <th>Ticket</th>\n",
       "      <th>Fare</th>\n",
       "      <th>Cabin</th>\n",
       "      <th>Embarked</th>\n",
       "      <th>Survived</th>\n",
       "    </tr>\n",
       "  </thead>\n",
       "  <tbody>\n",
       "    <tr>\n",
       "      <th>0</th>\n",
       "      <td>1.0</td>\n",
       "      <td>3.0</td>\n",
       "      <td>Braund, Mr. Owen Harris</td>\n",
       "      <td>MALE</td>\n",
       "      <td>22.0</td>\n",
       "      <td>Teenager</td>\n",
       "      <td>1.0</td>\n",
       "      <td>0.0</td>\n",
       "      <td>A/5 21171</td>\n",
       "      <td>7.2500</td>\n",
       "      <td>NaN</td>\n",
       "      <td>S</td>\n",
       "      <td>0.0</td>\n",
       "    </tr>\n",
       "    <tr>\n",
       "      <th>1</th>\n",
       "      <td>2.0</td>\n",
       "      <td>1.0</td>\n",
       "      <td>Cumings, Mrs. John Bradley (Florence Briggs Th...</td>\n",
       "      <td>FEMALE</td>\n",
       "      <td>38.0</td>\n",
       "      <td>Adult</td>\n",
       "      <td>1.0</td>\n",
       "      <td>0.0</td>\n",
       "      <td>PC 17599</td>\n",
       "      <td>71.2833</td>\n",
       "      <td>C85</td>\n",
       "      <td>C</td>\n",
       "      <td>1.0</td>\n",
       "    </tr>\n",
       "    <tr>\n",
       "      <th>2</th>\n",
       "      <td>3.0</td>\n",
       "      <td>3.0</td>\n",
       "      <td>Heikkinen, Miss. Laina</td>\n",
       "      <td>FEMALE</td>\n",
       "      <td>26.0</td>\n",
       "      <td>Teenager</td>\n",
       "      <td>0.0</td>\n",
       "      <td>0.0</td>\n",
       "      <td>STON/O2. 3101282</td>\n",
       "      <td>7.9250</td>\n",
       "      <td>NaN</td>\n",
       "      <td>S</td>\n",
       "      <td>1.0</td>\n",
       "    </tr>\n",
       "    <tr>\n",
       "      <th>3</th>\n",
       "      <td>4.0</td>\n",
       "      <td>1.0</td>\n",
       "      <td>Futrelle, Mrs. Jacques Heath (Lily May Peel)</td>\n",
       "      <td>FEMALE</td>\n",
       "      <td>35.0</td>\n",
       "      <td>Adult</td>\n",
       "      <td>1.0</td>\n",
       "      <td>0.0</td>\n",
       "      <td>113803</td>\n",
       "      <td>53.1000</td>\n",
       "      <td>C123</td>\n",
       "      <td>S</td>\n",
       "      <td>1.0</td>\n",
       "    </tr>\n",
       "    <tr>\n",
       "      <th>4</th>\n",
       "      <td>5.0</td>\n",
       "      <td>3.0</td>\n",
       "      <td>Allen, Mr. William Henry</td>\n",
       "      <td>MALE</td>\n",
       "      <td>35.0</td>\n",
       "      <td>Adult</td>\n",
       "      <td>0.0</td>\n",
       "      <td>0.0</td>\n",
       "      <td>373450</td>\n",
       "      <td>8.0500</td>\n",
       "      <td>NaN</td>\n",
       "      <td>S</td>\n",
       "      <td>0.0</td>\n",
       "    </tr>\n",
       "    <tr>\n",
       "      <th>5</th>\n",
       "      <td>6.0</td>\n",
       "      <td>3.0</td>\n",
       "      <td>Moran, Mr. James</td>\n",
       "      <td>MALE</td>\n",
       "      <td>NaN</td>\n",
       "      <td>Teenager</td>\n",
       "      <td>0.0</td>\n",
       "      <td>0.0</td>\n",
       "      <td>330877</td>\n",
       "      <td>8.4583</td>\n",
       "      <td>NaN</td>\n",
       "      <td>Q</td>\n",
       "      <td>0.0</td>\n",
       "    </tr>\n",
       "    <tr>\n",
       "      <th>6</th>\n",
       "      <td>7.0</td>\n",
       "      <td>1.0</td>\n",
       "      <td>McCarthy, Mr. Timothy J</td>\n",
       "      <td>MALE</td>\n",
       "      <td>54.0</td>\n",
       "      <td>Senior</td>\n",
       "      <td>0.0</td>\n",
       "      <td>0.0</td>\n",
       "      <td>17463</td>\n",
       "      <td>51.8625</td>\n",
       "      <td>E46</td>\n",
       "      <td>S</td>\n",
       "      <td>0.0</td>\n",
       "    </tr>\n",
       "    <tr>\n",
       "      <th>7</th>\n",
       "      <td>8.0</td>\n",
       "      <td>3.0</td>\n",
       "      <td>Palsson, Master. Gosta Leonard</td>\n",
       "      <td>MALE</td>\n",
       "      <td>2.0</td>\n",
       "      <td>Teenager</td>\n",
       "      <td>3.0</td>\n",
       "      <td>1.0</td>\n",
       "      <td>349909</td>\n",
       "      <td>21.0750</td>\n",
       "      <td>NaN</td>\n",
       "      <td>S</td>\n",
       "      <td>0.0</td>\n",
       "    </tr>\n",
       "    <tr>\n",
       "      <th>8</th>\n",
       "      <td>9.0</td>\n",
       "      <td>3.0</td>\n",
       "      <td>Johnson, Mrs. Oscar W (Elisabeth Vilhelmina Berg)</td>\n",
       "      <td>FEMALE</td>\n",
       "      <td>27.0</td>\n",
       "      <td>Teenager</td>\n",
       "      <td>0.0</td>\n",
       "      <td>2.0</td>\n",
       "      <td>347742</td>\n",
       "      <td>11.1333</td>\n",
       "      <td>NaN</td>\n",
       "      <td>S</td>\n",
       "      <td>1.0</td>\n",
       "    </tr>\n",
       "    <tr>\n",
       "      <th>9</th>\n",
       "      <td>10.0</td>\n",
       "      <td>2.0</td>\n",
       "      <td>Nasser, Mrs. Nicholas (Adele Achem)</td>\n",
       "      <td>FEMALE</td>\n",
       "      <td>14.0</td>\n",
       "      <td>Teenager</td>\n",
       "      <td>1.0</td>\n",
       "      <td>0.0</td>\n",
       "      <td>237736</td>\n",
       "      <td>30.0708</td>\n",
       "      <td>NaN</td>\n",
       "      <td>C</td>\n",
       "      <td>1.0</td>\n",
       "    </tr>\n",
       "  </tbody>\n",
       "</table>\n",
       "</div>"
      ],
      "text/plain": [
       "   PassengerId  Pclass                                               Name   \n",
       "0          1.0     3.0                            Braund, Mr. Owen Harris  \\\n",
       "1          2.0     1.0  Cumings, Mrs. John Bradley (Florence Briggs Th...   \n",
       "2          3.0     3.0                             Heikkinen, Miss. Laina   \n",
       "3          4.0     1.0       Futrelle, Mrs. Jacques Heath (Lily May Peel)   \n",
       "4          5.0     3.0                           Allen, Mr. William Henry   \n",
       "5          6.0     3.0                                   Moran, Mr. James   \n",
       "6          7.0     1.0                            McCarthy, Mr. Timothy J   \n",
       "7          8.0     3.0                     Palsson, Master. Gosta Leonard   \n",
       "8          9.0     3.0  Johnson, Mrs. Oscar W (Elisabeth Vilhelmina Berg)   \n",
       "9         10.0     2.0                Nasser, Mrs. Nicholas (Adele Achem)   \n",
       "\n",
       "      Sex   Age Age Group  SibSp  Parch            Ticket     Fare Cabin   \n",
       "0    MALE  22.0  Teenager    1.0    0.0         A/5 21171   7.2500   NaN  \\\n",
       "1  FEMALE  38.0     Adult    1.0    0.0          PC 17599  71.2833   C85   \n",
       "2  FEMALE  26.0  Teenager    0.0    0.0  STON/O2. 3101282   7.9250   NaN   \n",
       "3  FEMALE  35.0     Adult    1.0    0.0            113803  53.1000  C123   \n",
       "4    MALE  35.0     Adult    0.0    0.0            373450   8.0500   NaN   \n",
       "5    MALE   NaN  Teenager    0.0    0.0            330877   8.4583   NaN   \n",
       "6    MALE  54.0    Senior    0.0    0.0             17463  51.8625   E46   \n",
       "7    MALE   2.0  Teenager    3.0    1.0            349909  21.0750   NaN   \n",
       "8  FEMALE  27.0  Teenager    0.0    2.0            347742  11.1333   NaN   \n",
       "9  FEMALE  14.0  Teenager    1.0    0.0            237736  30.0708   NaN   \n",
       "\n",
       "  Embarked  Survived  \n",
       "0        S       0.0  \n",
       "1        C       1.0  \n",
       "2        S       1.0  \n",
       "3        S       1.0  \n",
       "4        S       0.0  \n",
       "5        Q       0.0  \n",
       "6        S       0.0  \n",
       "7        S       0.0  \n",
       "8        S       1.0  \n",
       "9        C       1.0  "
      ]
     },
     "execution_count": 49,
     "metadata": {},
     "output_type": "execute_result"
    }
   ],
   "source": [
    "df.head(10)"
   ]
  },
  {
   "cell_type": "code",
   "execution_count": 50,
   "metadata": {},
   "outputs": [
    {
     "data": {
      "text/plain": [
       "PassengerId       1\n",
       "Pclass            1\n",
       "Name              1\n",
       "Sex               1\n",
       "Age             263\n",
       "Age Group         1\n",
       "SibSp             1\n",
       "Parch             1\n",
       "Ticket            1\n",
       "Fare              2\n",
       "Cabin          1015\n",
       "Embarked          3\n",
       "Survived          1\n",
       "dtype: int64"
      ]
     },
     "execution_count": 50,
     "metadata": {},
     "output_type": "execute_result"
    }
   ],
   "source": [
    "df.isnull().sum()"
   ]
  },
  {
   "cell_type": "code",
   "execution_count": 51,
   "metadata": {},
   "outputs": [],
   "source": [
    "df['Age'].fillna(df['Age'].median(), inplace=True)"
   ]
  },
  {
   "cell_type": "code",
   "execution_count": 52,
   "metadata": {},
   "outputs": [
    {
     "data": {
      "text/plain": [
       "PassengerId       1\n",
       "Pclass            1\n",
       "Name              1\n",
       "Sex               1\n",
       "Age               0\n",
       "Age Group         1\n",
       "SibSp             1\n",
       "Parch             1\n",
       "Ticket            1\n",
       "Fare              2\n",
       "Cabin          1015\n",
       "Embarked          3\n",
       "Survived          1\n",
       "dtype: int64"
      ]
     },
     "execution_count": 52,
     "metadata": {},
     "output_type": "execute_result"
    }
   ],
   "source": [
    "df.isnull().sum()"
   ]
  },
  {
   "cell_type": "code",
   "execution_count": 53,
   "metadata": {},
   "outputs": [],
   "source": [
    "df.drop('Cabin', axis=1, inplace=True)"
   ]
  },
  {
   "cell_type": "code",
   "execution_count": 54,
   "metadata": {},
   "outputs": [
    {
     "data": {
      "text/plain": [
       "Index(['PassengerId', 'Pclass', 'Name', 'Sex', 'Age', 'Age Group', 'SibSp',\n",
       "       'Parch', 'Ticket', 'Fare', 'Embarked', 'Survived'],\n",
       "      dtype='object')"
      ]
     },
     "execution_count": 54,
     "metadata": {},
     "output_type": "execute_result"
    }
   ],
   "source": [
    "df.columns"
   ]
  },
  {
   "cell_type": "code",
   "execution_count": 55,
   "metadata": {},
   "outputs": [],
   "source": [
    "fare_null_remove = df['Fare'].mode()[0]\n",
    "df['Fare'].fillna(fare_null_remove, inplace=True)"
   ]
  },
  {
   "cell_type": "code",
   "execution_count": 56,
   "metadata": {},
   "outputs": [],
   "source": [
    "most_common_embarked = df['Embarked'].mode()[0]\n",
    "df['Embarked'].fillna(most_common_embarked, inplace=True)"
   ]
  },
  {
   "cell_type": "code",
   "execution_count": 57,
   "metadata": {},
   "outputs": [
    {
     "data": {
      "text/plain": [
       "PassengerId    1\n",
       "Pclass         1\n",
       "Name           1\n",
       "Sex            1\n",
       "Age            0\n",
       "Age Group      1\n",
       "SibSp          1\n",
       "Parch          1\n",
       "Ticket         1\n",
       "Fare           0\n",
       "Embarked       0\n",
       "Survived       1\n",
       "dtype: int64"
      ]
     },
     "execution_count": 57,
     "metadata": {},
     "output_type": "execute_result"
    }
   ],
   "source": [
    "df.isnull().sum()"
   ]
  },
  {
   "cell_type": "code",
   "execution_count": 58,
   "metadata": {},
   "outputs": [],
   "source": [
    "df['Fare'] = df['Fare'].astype(int)"
   ]
  },
  {
   "cell_type": "code",
   "execution_count": 59,
   "metadata": {},
   "outputs": [
    {
     "data": {
      "text/html": [
       "<div>\n",
       "<style scoped>\n",
       "    .dataframe tbody tr th:only-of-type {\n",
       "        vertical-align: middle;\n",
       "    }\n",
       "\n",
       "    .dataframe tbody tr th {\n",
       "        vertical-align: top;\n",
       "    }\n",
       "\n",
       "    .dataframe thead th {\n",
       "        text-align: right;\n",
       "    }\n",
       "</style>\n",
       "<table border=\"1\" class=\"dataframe\">\n",
       "  <thead>\n",
       "    <tr style=\"text-align: right;\">\n",
       "      <th></th>\n",
       "      <th>PassengerId</th>\n",
       "      <th>Pclass</th>\n",
       "      <th>Name</th>\n",
       "      <th>Sex</th>\n",
       "      <th>Age</th>\n",
       "      <th>Age Group</th>\n",
       "      <th>SibSp</th>\n",
       "      <th>Parch</th>\n",
       "      <th>Ticket</th>\n",
       "      <th>Fare</th>\n",
       "      <th>Embarked</th>\n",
       "      <th>Survived</th>\n",
       "    </tr>\n",
       "  </thead>\n",
       "  <tbody>\n",
       "    <tr>\n",
       "      <th>0</th>\n",
       "      <td>1.0</td>\n",
       "      <td>3.0</td>\n",
       "      <td>Braund, Mr. Owen Harris</td>\n",
       "      <td>MALE</td>\n",
       "      <td>22.0</td>\n",
       "      <td>Teenager</td>\n",
       "      <td>1.0</td>\n",
       "      <td>0.0</td>\n",
       "      <td>A/5 21171</td>\n",
       "      <td>7</td>\n",
       "      <td>S</td>\n",
       "      <td>0.0</td>\n",
       "    </tr>\n",
       "    <tr>\n",
       "      <th>1</th>\n",
       "      <td>2.0</td>\n",
       "      <td>1.0</td>\n",
       "      <td>Cumings, Mrs. John Bradley (Florence Briggs Th...</td>\n",
       "      <td>FEMALE</td>\n",
       "      <td>38.0</td>\n",
       "      <td>Adult</td>\n",
       "      <td>1.0</td>\n",
       "      <td>0.0</td>\n",
       "      <td>PC 17599</td>\n",
       "      <td>71</td>\n",
       "      <td>C</td>\n",
       "      <td>1.0</td>\n",
       "    </tr>\n",
       "    <tr>\n",
       "      <th>2</th>\n",
       "      <td>3.0</td>\n",
       "      <td>3.0</td>\n",
       "      <td>Heikkinen, Miss. Laina</td>\n",
       "      <td>FEMALE</td>\n",
       "      <td>26.0</td>\n",
       "      <td>Teenager</td>\n",
       "      <td>0.0</td>\n",
       "      <td>0.0</td>\n",
       "      <td>STON/O2. 3101282</td>\n",
       "      <td>7</td>\n",
       "      <td>S</td>\n",
       "      <td>1.0</td>\n",
       "    </tr>\n",
       "    <tr>\n",
       "      <th>3</th>\n",
       "      <td>4.0</td>\n",
       "      <td>1.0</td>\n",
       "      <td>Futrelle, Mrs. Jacques Heath (Lily May Peel)</td>\n",
       "      <td>FEMALE</td>\n",
       "      <td>35.0</td>\n",
       "      <td>Adult</td>\n",
       "      <td>1.0</td>\n",
       "      <td>0.0</td>\n",
       "      <td>113803</td>\n",
       "      <td>53</td>\n",
       "      <td>S</td>\n",
       "      <td>1.0</td>\n",
       "    </tr>\n",
       "    <tr>\n",
       "      <th>4</th>\n",
       "      <td>5.0</td>\n",
       "      <td>3.0</td>\n",
       "      <td>Allen, Mr. William Henry</td>\n",
       "      <td>MALE</td>\n",
       "      <td>35.0</td>\n",
       "      <td>Adult</td>\n",
       "      <td>0.0</td>\n",
       "      <td>0.0</td>\n",
       "      <td>373450</td>\n",
       "      <td>8</td>\n",
       "      <td>S</td>\n",
       "      <td>0.0</td>\n",
       "    </tr>\n",
       "    <tr>\n",
       "      <th>5</th>\n",
       "      <td>6.0</td>\n",
       "      <td>3.0</td>\n",
       "      <td>Moran, Mr. James</td>\n",
       "      <td>MALE</td>\n",
       "      <td>28.0</td>\n",
       "      <td>Teenager</td>\n",
       "      <td>0.0</td>\n",
       "      <td>0.0</td>\n",
       "      <td>330877</td>\n",
       "      <td>8</td>\n",
       "      <td>Q</td>\n",
       "      <td>0.0</td>\n",
       "    </tr>\n",
       "    <tr>\n",
       "      <th>6</th>\n",
       "      <td>7.0</td>\n",
       "      <td>1.0</td>\n",
       "      <td>McCarthy, Mr. Timothy J</td>\n",
       "      <td>MALE</td>\n",
       "      <td>54.0</td>\n",
       "      <td>Senior</td>\n",
       "      <td>0.0</td>\n",
       "      <td>0.0</td>\n",
       "      <td>17463</td>\n",
       "      <td>51</td>\n",
       "      <td>S</td>\n",
       "      <td>0.0</td>\n",
       "    </tr>\n",
       "    <tr>\n",
       "      <th>7</th>\n",
       "      <td>8.0</td>\n",
       "      <td>3.0</td>\n",
       "      <td>Palsson, Master. Gosta Leonard</td>\n",
       "      <td>MALE</td>\n",
       "      <td>2.0</td>\n",
       "      <td>Teenager</td>\n",
       "      <td>3.0</td>\n",
       "      <td>1.0</td>\n",
       "      <td>349909</td>\n",
       "      <td>21</td>\n",
       "      <td>S</td>\n",
       "      <td>0.0</td>\n",
       "    </tr>\n",
       "    <tr>\n",
       "      <th>8</th>\n",
       "      <td>9.0</td>\n",
       "      <td>3.0</td>\n",
       "      <td>Johnson, Mrs. Oscar W (Elisabeth Vilhelmina Berg)</td>\n",
       "      <td>FEMALE</td>\n",
       "      <td>27.0</td>\n",
       "      <td>Teenager</td>\n",
       "      <td>0.0</td>\n",
       "      <td>2.0</td>\n",
       "      <td>347742</td>\n",
       "      <td>11</td>\n",
       "      <td>S</td>\n",
       "      <td>1.0</td>\n",
       "    </tr>\n",
       "    <tr>\n",
       "      <th>9</th>\n",
       "      <td>10.0</td>\n",
       "      <td>2.0</td>\n",
       "      <td>Nasser, Mrs. Nicholas (Adele Achem)</td>\n",
       "      <td>FEMALE</td>\n",
       "      <td>14.0</td>\n",
       "      <td>Teenager</td>\n",
       "      <td>1.0</td>\n",
       "      <td>0.0</td>\n",
       "      <td>237736</td>\n",
       "      <td>30</td>\n",
       "      <td>C</td>\n",
       "      <td>1.0</td>\n",
       "    </tr>\n",
       "  </tbody>\n",
       "</table>\n",
       "</div>"
      ],
      "text/plain": [
       "   PassengerId  Pclass                                               Name   \n",
       "0          1.0     3.0                            Braund, Mr. Owen Harris  \\\n",
       "1          2.0     1.0  Cumings, Mrs. John Bradley (Florence Briggs Th...   \n",
       "2          3.0     3.0                             Heikkinen, Miss. Laina   \n",
       "3          4.0     1.0       Futrelle, Mrs. Jacques Heath (Lily May Peel)   \n",
       "4          5.0     3.0                           Allen, Mr. William Henry   \n",
       "5          6.0     3.0                                   Moran, Mr. James   \n",
       "6          7.0     1.0                            McCarthy, Mr. Timothy J   \n",
       "7          8.0     3.0                     Palsson, Master. Gosta Leonard   \n",
       "8          9.0     3.0  Johnson, Mrs. Oscar W (Elisabeth Vilhelmina Berg)   \n",
       "9         10.0     2.0                Nasser, Mrs. Nicholas (Adele Achem)   \n",
       "\n",
       "      Sex   Age Age Group  SibSp  Parch            Ticket  Fare Embarked   \n",
       "0    MALE  22.0  Teenager    1.0    0.0         A/5 21171     7        S  \\\n",
       "1  FEMALE  38.0     Adult    1.0    0.0          PC 17599    71        C   \n",
       "2  FEMALE  26.0  Teenager    0.0    0.0  STON/O2. 3101282     7        S   \n",
       "3  FEMALE  35.0     Adult    1.0    0.0            113803    53        S   \n",
       "4    MALE  35.0     Adult    0.0    0.0            373450     8        S   \n",
       "5    MALE  28.0  Teenager    0.0    0.0            330877     8        Q   \n",
       "6    MALE  54.0    Senior    0.0    0.0             17463    51        S   \n",
       "7    MALE   2.0  Teenager    3.0    1.0            349909    21        S   \n",
       "8  FEMALE  27.0  Teenager    0.0    2.0            347742    11        S   \n",
       "9  FEMALE  14.0  Teenager    1.0    0.0            237736    30        C   \n",
       "\n",
       "   Survived  \n",
       "0       0.0  \n",
       "1       1.0  \n",
       "2       1.0  \n",
       "3       1.0  \n",
       "4       0.0  \n",
       "5       0.0  \n",
       "6       0.0  \n",
       "7       0.0  \n",
       "8       1.0  \n",
       "9       1.0  "
      ]
     },
     "execution_count": 59,
     "metadata": {},
     "output_type": "execute_result"
    }
   ],
   "source": [
    "df.head(10)"
   ]
  },
  {
   "cell_type": "code",
   "execution_count": 60,
   "metadata": {},
   "outputs": [
    {
     "name": "stderr",
     "output_type": "stream",
     "text": [
      "C:\\Users\\ASUS\\AppData\\Local\\Temp\\ipykernel_5960\\1386492180.py:1: FutureWarning: \n",
      "\n",
      "Passing `palette` without assigning `hue` is deprecated and will be removed in v0.14.0. Assign the `x` variable to `hue` and set `legend=False` for the same effect.\n",
      "\n",
      "  ax = sns.countplot(x='Survived', palette=\"Set2\", data=df)\n"
     ]
    },
    {
     "data": {
      "image/png": "[encoded data removed]",
      "text/plain": [
       "<Figure size 640x480 with 1 Axes>"
      ]
     },
     "metadata": {},
     "output_type": "display_data"
    }
   ],
   "source": [
    "ax = sns.countplot(x='Survived', palette=\"Set2\", data=df)\n",
    "\n",
    "for bars in ax.containers:\n",
    "    ax.bar_label(bars)\n",
    "\n",
    "plt.title('Survival People')\n",
    "plt.show()"
   ]
  },
  {
   "cell_type": "code",
   "execution_count": 61,
   "metadata": {},
   "outputs": [
    {
     "data": {
      "image/png": "[encoded data removed]",
      "text/plain": [
       "<Figure size 640x480 with 1 Axes>"
      ]
     },
     "metadata": {},
     "output_type": "display_data"
    }
   ],
   "source": [
    "ax = sns.countplot(x='Survived', hue='Sex', data=df)\n",
    "for bars in ax.containers:\n",
    "    ax.bar_label(bars)\n",
    "\n",
    "plt.title('Sex Ratio Of Survival')\n",
    "plt.show()"
   ]
  },
  {
   "cell_type": "code",
   "execution_count": 62,
   "metadata": {},
   "outputs": [
    {
     "data": {
      "image/png": "[encoded data removed]",
      "text/plain": [
       "<Figure size 640x480 with 1 Axes>"
      ]
     },
     "metadata": {},
     "output_type": "display_data"
    }
   ],
   "source": [
    "ax = sns.countplot(y='Survived',hue='Age Group', data=df)\n",
    "for bars in ax.containers:\n",
    "    ax.bar_label(bars)\n",
    "\n",
    "plt.title('Age Group Of Survival')\n",
    "plt.show()"
   ]
  },
  {
   "cell_type": "code",
   "execution_count": 63,
   "metadata": {},
   "outputs": [
    {
     "data": {
      "image/png": "[encoded data removed]",
      "text/plain": [
       "<Figure size 640x480 with 1 Axes>"
      ]
     },
     "metadata": {},
     "output_type": "display_data"
    }
   ],
   "source": [
    "sns.histplot(df['Age'], bins=20, kde=True)\n",
    "plt.title('Age Distribution')\n",
    "plt.show()"
   ]
  },
  {
   "cell_type": "code",
   "execution_count": 64,
   "metadata": {},
   "outputs": [
    {
     "name": "stderr",
     "output_type": "stream",
     "text": [
      "C:\\Users\\ASUS\\AppData\\Local\\Temp\\ipykernel_5960\\343452329.py:1: FutureWarning: \n",
      "\n",
      "Passing `palette` without assigning `hue` is deprecated and will be removed in v0.14.0. Assign the `x` variable to `hue` and set `legend=False` for the same effect.\n",
      "\n",
      "  ax = sns.countplot(x='Embarked', palette=\"Set2\", data=df)\n"
     ]
    },
    {
     "data": {
      "image/png": "[encoded data removed]",
      "text/plain": [
       "<Figure size 640x480 with 1 Axes>"
      ]
     },
     "metadata": {},
     "output_type": "display_data"
    }
   ],
   "source": [
    "ax = sns.countplot(x='Embarked', palette=\"Set2\", data=df)\n",
    "for bars in ax.containers:\n",
    "    ax.bar_label(bars)\n",
    "\n",
    "plt.title('Passenger Count by Embarkation Port')\n",
    "plt.show()"
   ]
  },
  {
   "cell_type": "code",
   "execution_count": 65,
   "metadata": {},
   "outputs": [
    {
     "data": {
      "image/png": "[encoded data removed]",
      "text/plain": [
       "<Figure size 640x480 with 1 Axes>"
      ]
     },
     "metadata": {},
     "output_type": "display_data"
    }
   ],
   "source": [
    "ax = sns.countplot(x='Survived', hue='Embarked', data=df)\n",
    "for bars in ax.containers:\n",
    "    ax.bar_label(bars)\n",
    "\n",
    "plt.title('Survival Count by Embarkation Port')\n",
    "plt.show()"
   ]
  },
  {
   "cell_type": "code",
   "execution_count": 66,
   "metadata": {},
   "outputs": [],
   "source": [
    "top_passengers = df.sort_values(by='Fare', ascending=False)"
   ]
  },
  {
   "cell_type": "code",
   "execution_count": 67,
   "metadata": {},
   "outputs": [],
   "source": [
    "top_10_passengers = top_passengers.head(10)"
   ]
  },
  {
   "cell_type": "code",
   "execution_count": 68,
   "metadata": {},
   "outputs": [
    {
     "name": "stdout",
     "output_type": "stream",
     "text": [
      "      PassengerId  Pclass                                               Name   \n",
      "737         738.0     1.0                             Lesurer, Mr. Gustave J  \\\n",
      "679         680.0     1.0                 Cardeza, Mr. Thomas Drake Martinez   \n",
      "258         259.0     1.0                                   Ward, Miss. Anna   \n",
      "1234       1235.0     1.0  Cardeza, Mrs. James Warburton Martinez (Charlo...   \n",
      "88           89.0     1.0                         Fortune, Miss. Mabel Helen   \n",
      "960         961.0     1.0                Fortune, Mrs. Mark (Mary McDougald)   \n",
      "27           28.0     1.0                     Fortune, Mr. Charles Alexander   \n",
      "341         342.0     1.0                     Fortune, Miss. Alice Elizabeth   \n",
      "944         945.0     1.0                         Fortune, Miss. Ethel Flora   \n",
      "438         439.0     1.0                                  Fortune, Mr. Mark   \n",
      "\n",
      "         Sex   Age Age Group  SibSp  Parch    Ticket  Fare Embarked  Survived  \n",
      "737     MALE  35.0     Adult    0.0    0.0  PC 17755   512        C       1.0  \n",
      "679     MALE  36.0     Adult    0.0    1.0  PC 17755   512        C       1.0  \n",
      "258   FEMALE  35.0     Adult    0.0    0.0  PC 17755   512        C       1.0  \n",
      "1234  FEMALE  58.0    Senior    0.0    1.0  PC 17755   512        C       1.0  \n",
      "88    FEMALE  23.0  Teenager    3.0    2.0     19950   263        S       1.0  \n",
      "960   FEMALE  60.0    Senior    1.0    4.0     19950   263        S       1.0  \n",
      "27      MALE  19.0  Teenager    3.0    2.0     19950   263        S       0.0  \n",
      "341   FEMALE  24.0  Teenager    3.0    2.0     19950   263        S       1.0  \n",
      "944   FEMALE  28.0  Teenager    3.0    2.0     19950   263        S       1.0  \n",
      "438     MALE  64.0    Senior    1.0    4.0     19950   263        S       0.0  \n"
     ]
    }
   ],
   "source": [
    "print(top_10_passengers)"
   ]
  },
  {
   "cell_type": "code",
   "execution_count": 69,
   "metadata": {},
   "outputs": [],
   "source": [
    "top_10_passengers_subset = top_10_passengers[['PassengerId', 'Fare']]"
   ]
  },
  {
   "cell_type": "code",
   "execution_count": 70,
   "metadata": {},
   "outputs": [
    {
     "name": "stdout",
     "output_type": "stream",
     "text": [
      "      PassengerId  Fare\n",
      "737         738.0   512\n",
      "679         680.0   512\n",
      "258         259.0   512\n",
      "1234       1235.0   512\n",
      "88           89.0   263\n",
      "960         961.0   263\n",
      "27           28.0   263\n",
      "341         342.0   263\n",
      "944         945.0   263\n",
      "438         439.0   263\n"
     ]
    }
   ],
   "source": [
    "print(top_10_passengers_subset)"
   ]
  },
  {
   "cell_type": "code",
   "execution_count": 71,
   "metadata": {},
   "outputs": [
    {
     "data": {
      "image/png": "[encoded data removed]",
      "text/plain": [
       "<Figure size 640x480 with 1 Axes>"
      ]
     },
     "metadata": {},
     "output_type": "display_data"
    }
   ],
   "source": [
    "ax = sns.barplot(x='PassengerId', y='Fare', data=top_10_passengers_subset)\n",
    "for bars in ax.containers:\n",
    "    ax.bar_label(bars)\n",
    "\n",
    "plt.show()"
   ]
  }
 ],
 "metadata": {
  "kernelspec": {
   "display_name": "Python 3.10.5 64-bit",
   "language": "python",
   "name": "python3"
  },
  "language_info": {
   "codemirror_mode": {
    "name": "ipython",
    "version": 3
   },
   "file_extension": ".py",
   "mimetype": "text/x-python",
   "name": "python",
   "nbconvert_exporter": "python",
   "pygments_lexer": "ipython3",
   "version": "3.10.5"
  },
  "orig_nbformat": 4,
  "vscode": {
   "interpreter": {
    "hash": "369f2c481f4da34e4445cda3fffd2e751bd1c4d706f27375911949ba6bb62e1c"
   }
  }
 },
 "nbformat": 4,
 "nbformat_minor": 2
}
